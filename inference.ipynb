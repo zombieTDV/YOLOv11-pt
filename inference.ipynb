{
 "cells": [
  {
   "cell_type": "code",
   "execution_count": 23,
   "id": "531af780",
   "metadata": {},
   "outputs": [],
   "source": [
    "import torch\n",
    "import cv2\n",
    "import numpy as np\n",
    "from PIL import Image\n",
    "import torchvision.transforms as T\n",
    "\n",
    "from utils.util import non_max_suppression, scale_coords"
   ]
  },
  {
   "cell_type": "code",
   "execution_count": 27,
   "id": "4df6e232",
   "metadata": {},
   "outputs": [
    {
     "name": "stderr",
     "output_type": "stream",
     "text": [
      "C:\\Users\\TDV\\AppData\\Local\\Temp\\ipykernel_20460\\2061751865.py:2: FutureWarning: You are using `torch.load` with `weights_only=False` (the current default value), which uses the default pickle module implicitly. It is possible to construct malicious pickle data which will execute arbitrary code during unpickling (See https://github.com/pytorch/pytorch/blob/main/SECURITY.md#untrusted-models for more details). In a future release, the default value for `weights_only` will be flipped to `True`. This limits the functions that could be executed during unpickling. Arbitrary objects will no longer be allowed to be loaded via this mode unless they are explicitly allowlisted by the user via `torch.serialization.add_safe_globals`. We recommend you start setting `weights_only=True` for any use case where you don't have full control of the loaded file. Please open an issue on GitHub for any issues related to this experimental feature.\n",
      "  ckpt = torch.load(\"weights/best.pt\", map_location=\"cpu\")\n"
     ]
    }
   ],
   "source": [
    "# 1) Load model\n",
    "ckpt = torch.load(\"weights/best.pt\", map_location=\"cpu\")\n",
    "model = ckpt[\"model\"].float()    # keep float32 for safety\n",
    "model.eval()\n",
    "\n",
    "device = torch.device(\"cuda\" if torch.cuda.is_available() else \"cpu\")\n",
    "model = model.to(device)\n",
    "\n",
    "# 2) Load and preprocess image\n",
    "WEIGHT_PATH = \"weights/best.pt\"\n",
    "img_path = \"dataset/Highway.png\"\n",
    "#VietNam_street\n",
    "#Highway\n",
    "img = Image.open(img_path).convert(\"RGB\")\n",
    "orig_w, orig_h = img.size\n",
    "\n",
    "transform = T.Compose([\n",
    "    T.Resize((640, 640)),\n",
    "    T.ToTensor()\n",
    "])\n",
    "x = transform(img).unsqueeze(0).to(device)\n",
    "\n",
    "# If model params are fp16, cast input too\n",
    "if next(model.parameters()).dtype == torch.half:\n",
    "    x = x.half()\n",
    "\n"
   ]
  },
  {
   "cell_type": "code",
   "execution_count": 31,
   "id": "ab9b4144",
   "metadata": {},
   "outputs": [
    {
     "data": {
      "text/plain": [
       "(2121, 1414)"
      ]
     },
     "execution_count": 31,
     "metadata": {},
     "output_type": "execute_result"
    }
   ],
   "source": [
    "img.size"
   ]
  },
  {
   "cell_type": "code",
   "execution_count": 32,
   "id": "ac56ec6a",
   "metadata": {},
   "outputs": [
    {
     "name": "stdout",
     "output_type": "stream",
     "text": [
      "✅ Saved inference_result.jpg\n"
     ]
    }
   ],
   "source": [
    "# 3) Forward pass\n",
    "with torch.no_grad():\n",
    "    out = model(x)          # raw output\n",
    "    if isinstance(out, (list, tuple)):\n",
    "        out = out[0]\n",
    "    # shape [B,84,8400] -> [B,8400,84]\n",
    "    out = out.permute(0, 2, 1)\n",
    "\n",
    "# 4) NMS (repo’s version)\n",
    "detections = non_max_suppression(out, confidence_threshold=0.25, iou_threshold=0.45)[0]\n",
    "\n",
    "# 5) Rescale boxes back to original image\n",
    "in_h, in_w = 640, 640\n",
    "out_h, out_w = orig_h, orig_w\n",
    "\n",
    "if detections is not None and len(detections):  \n",
    "    detections[:, :4] = scale_coords((in_h, in_w), detections[:, :4], (out_h, out_w))\n",
    "    # 6) Draw results\n",
    "    img_cv = cv2.cvtColor(np.array(img), cv2.COLOR_RGB2BGR)\n",
    "    for *xyxy, conf, cls in detections:\n",
    "        x1, y1, x2, y2 = map(int, xyxy)\n",
    "        label = f\"{int(cls)} {conf:.2f}\"\n",
    "        cv2.rectangle(img_cv, (x1, y1), (x2, y2), (0,255,0), 2)\n",
    "        cv2.putText(img_cv, label, (x1, y1-2), cv2.FONT_HERSHEY_SIMPLEX,\n",
    "                    0.6, (0,255,0), 2)\n",
    "\n",
    "    cv2.imwrite(\"inference_result.jpg\", img_cv)\n",
    "    print(\"✅ Saved inference_result.jpg\")\n",
    "else:\n",
    "    print(\"No detections found.\")\n"
   ]
  }
 ],
 "metadata": {
  "kernelspec": {
   "display_name": "venv",
   "language": "python",
   "name": "python3"
  },
  "language_info": {
   "codemirror_mode": {
    "name": "ipython",
    "version": 3
   },
   "file_extension": ".py",
   "mimetype": "text/x-python",
   "name": "python",
   "nbconvert_exporter": "python",
   "pygments_lexer": "ipython3",
   "version": "3.12.10"
  }
 },
 "nbformat": 4,
 "nbformat_minor": 5
}
