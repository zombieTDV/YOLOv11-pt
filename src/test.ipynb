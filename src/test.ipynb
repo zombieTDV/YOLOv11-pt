{
 "cells": [
  {
   "cell_type": "code",
   "execution_count": 3,
   "id": "4949a5da",
   "metadata": {},
   "outputs": [
    {
     "name": "stdout",
     "output_type": "stream",
     "text": [
      "COCO categories (id -> name):\n",
      "1 car\n",
      "2 bus\n",
      "\n",
      "Annotation counts by category_id:\n",
      "1 car 653\n",
      "2 bus 1\n"
     ]
    }
   ],
   "source": [
    "import json\n",
    "from collections import Counter\n",
    "\n",
    "with open(\"COCO/annotations/instances_train.json\", \"r\") as f:\n",
    "    coco = json.load(f)\n",
    "\n",
    "# Print categories\n",
    "print(\"COCO categories (id -> name):\")\n",
    "for cat in coco[\"categories\"]:\n",
    "    print(cat[\"id\"], cat[\"name\"])\n",
    "\n",
    "# Count annotations per category_id\n",
    "cnt = Counter([ann[\"category_id\"] for ann in coco[\"annotations\"]])\n",
    "print(\"\\nAnnotation counts by category_id:\")\n",
    "for cid, c in cnt.most_common():\n",
    "    # find name if exists\n",
    "    name = next((cat[\"name\"] for cat in coco[\"categories\"] if cat[\"id\"]==cid), \"<unknown>\")\n",
    "    print(cid, name, c)"
   ]
  }
 ],
 "metadata": {
  "kernelspec": {
   "display_name": "venv",
   "language": "python",
   "name": "python3"
  },
  "language_info": {
   "codemirror_mode": {
    "name": "ipython",
    "version": 3
   },
   "file_extension": ".py",
   "mimetype": "text/x-python",
   "name": "python",
   "nbconvert_exporter": "python",
   "pygments_lexer": "ipython3",
   "version": "3.12.10"
  }
 },
 "nbformat": 4,
 "nbformat_minor": 5
}
